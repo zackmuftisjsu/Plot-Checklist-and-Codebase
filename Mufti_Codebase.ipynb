{
 "cells": [
  {
   "cell_type": "code",
   "execution_count": 0,
   "metadata": {
    "colab": {},
    "colab_type": "code",
    "id": "Ryass-iGIJVQ"
   },
   "outputs": [],
   "source": [
    "import numpy as np\n",
    "import pandas as pd\n",
    "import seaborn as sns\n",
    "import matplotlib.pyplot as plt"
   ]
  },
  {
   "cell_type": "code",
   "execution_count": 0,
   "metadata": {
    "colab": {},
    "colab_type": "code",
    "id": "_xjFYLuUJ3Hc"
   },
   "outputs": [],
   "source": [
    "#Below, df is used as the variable for dataframes used"
   ]
  },
  {
   "cell_type": "code",
   "execution_count": 0,
   "metadata": {
    "colab": {},
    "colab_type": "code",
    "id": "kVVSDhGbIyX2"
   },
   "outputs": [],
   "source": [
    "df = pd.read_csv('df.csv')"
   ]
  },
  {
   "cell_type": "code",
   "execution_count": 0,
   "metadata": {
    "colab": {},
    "colab_type": "code",
    "id": "PYPNyCEeIyah"
   },
   "outputs": [],
   "source": [
    "df.head()"
   ]
  },
  {
   "cell_type": "code",
   "execution_count": 0,
   "metadata": {
    "colab": {},
    "colab_type": "code",
    "id": "dW1_QG6sIydM"
   },
   "outputs": [],
   "source": [
    "df.dtypes"
   ]
  },
  {
   "cell_type": "code",
   "execution_count": 0,
   "metadata": {
    "colab": {},
    "colab_type": "code",
    "id": "cgH_-1weIyfs"
   },
   "outputs": [],
   "source": [
    "df.shape"
   ]
  },
  {
   "cell_type": "code",
   "execution_count": 0,
   "metadata": {
    "colab": {},
    "colab_type": "code",
    "id": "153fgATeIyiH"
   },
   "outputs": [],
   "source": [
    "df['column_name'].value_counts()"
   ]
  },
  {
   "cell_type": "markdown",
   "metadata": {},
   "source": [
    "## 1: Countplot"
   ]
  },
  {
   "cell_type": "code",
   "execution_count": 0,
   "metadata": {
    "colab": {},
    "colab_type": "code",
    "id": "ERy1xQQUIyke"
   },
   "outputs": [],
   "source": [
    "#countplot\n",
    "sns.countplot(data=df, y='column1', order=df.column1.value_counts().index)"
   ]
  },
  {
   "cell_type": "markdown",
   "metadata": {},
   "source": [
    "## 2: lmplot"
   ]
  },
  {
   "cell_type": "code",
   "execution_count": 0,
   "metadata": {
    "colab": {},
    "colab_type": "code",
    "id": "ZlIjYW42Iym0"
   },
   "outputs": [],
   "source": [
    "#lmplot\n",
    "sns.lmplot(x=\"column1\",y=\"column2\",hue=\"column3\",data=df, height=5,aspect=0.90, x_jitter=1.10)"
   ]
  },
  {
   "cell_type": "markdown",
   "metadata": {},
   "source": [
    "## 3: barplot"
   ]
  },
  {
   "cell_type": "code",
   "execution_count": 0,
   "metadata": {
    "colab": {},
    "colab_type": "code",
    "id": "7RcuJVjNIypD"
   },
   "outputs": [],
   "source": [
    "#barplot\n",
    "fig, ax = plt.subplots(figsize=(15,10))\n",
    "ax = fig.gca()\n",
    "sns.barplot(y='column1', x='column2', data=df, ax=ax)"
   ]
  },
  {
   "cell_type": "markdown",
   "metadata": {},
   "source": [
    "## 4: Stacked bar"
   ]
  },
  {
   "cell_type": "code",
   "execution_count": 0,
   "metadata": {
    "colab": {},
    "colab_type": "code",
    "id": "ook8GODmIyrz"
   },
   "outputs": [],
   "source": [
    "#stacked bargraph\n",
    "ax = df.plot.barh(stacked=True, figsize=(15, 10), cmap=plt.cm.get_cmap('tab20c'))\n",
    "for p in ax.patches:\n",
    "    width, height = p.get_width(), p.get_height()\n",
    "    if width > 0:\n",
    "        ax.annotate(f'{width:.0f}', (p.get_x()+0.40*width,\n",
    "                                     p.get_y()+.17*height), color='black', fontsize=10)\n",
    "plt.title('Title', size=20)\n",
    "plt.xlabel('X-label')\n",
    "plt.tight_layout()"
   ]
  },
  {
   "cell_type": "markdown",
   "metadata": {},
   "source": [
    "## 5: Lineplot with 2 lines"
   ]
  },
  {
   "cell_type": "code",
   "execution_count": 0,
   "metadata": {
    "colab": {},
    "colab_type": "code",
    "id": "0MBiW1tLKdoB"
   },
   "outputs": [],
   "source": [
    "#lineplot with 2 lines on same graph\n",
    "plt.rcParams['figure.figsize'] = (8, 4)\n",
    "ax=sns.lineplot(x=\"column1\", y=\"column2\",\n",
    "             data=df)\n",
    "ax=sns.lineplot(x=\"column1\", y=\"column2\",\n",
    "            data=X)\n",
    "plt.title('Title', size=10)\n",
    "plt.xlabel('X-Label')\n",
    "plt.tight_layout()\n",
    "ax.set(xticks=np.arange(0,20,12), xticklabels=[label_1, label_2])"
   ]
  },
  {
   "cell_type": "markdown",
   "metadata": {},
   "source": [
    "## 6: Boxplot"
   ]
  },
  {
   "cell_type": "code",
   "execution_count": 0,
   "metadata": {
    "colab": {},
    "colab_type": "code",
    "id": "kSI-QUuWMIaN"
   },
   "outputs": [],
   "source": [
    "# boxplot\n",
    "sns.boxplot(data=df)"
   ]
  },
  {
   "cell_type": "markdown",
   "metadata": {},
   "source": [
    "## 7: Violinplot"
   ]
  },
  {
   "cell_type": "code",
   "execution_count": 0,
   "metadata": {
    "colab": {},
    "colab_type": "code",
    "id": "HPEwVpOWMJeZ"
   },
   "outputs": [],
   "source": [
    "#violinplot\n",
    "sns.violinplot(x='column1', y='column2', data=df)"
   ]
  },
  {
   "cell_type": "markdown",
   "metadata": {},
   "source": [
    "## 8: Heatmap"
   ]
  },
  {
   "cell_type": "code",
   "execution_count": 0,
   "metadata": {
    "colab": {},
    "colab_type": "code",
    "id": "VX8-kYjzMJqZ"
   },
   "outputs": [],
   "source": [
    "#Heatmap\n",
    "cor_1 = stats_df.corr()\n",
    "\n",
    "sns.heatmap(cor_1)"
   ]
  },
  {
   "cell_type": "markdown",
   "metadata": {},
   "source": [
    "## 9: Histogram"
   ]
  },
  {
   "cell_type": "code",
   "execution_count": 0,
   "metadata": {
    "colab": {},
    "colab_type": "code",
    "id": "duzfemCFMJyg"
   },
   "outputs": [],
   "source": [
    "#histogram\n",
    "x=df['column1']\n",
    "plt.hist(x)"
   ]
  },
  {
   "cell_type": "markdown",
   "metadata": {},
   "source": [
    "## 10: Pairplot"
   ]
  },
  {
   "cell_type": "code",
   "execution_count": 0,
   "metadata": {
    "colab": {},
    "colab_type": "code",
    "id": "072LWBZbNArz"
   },
   "outputs": [],
   "source": [
    "#pairplot\n",
    "sns.pairplot(df, hue=\"column1\", size=3)"
   ]
  }
 ],
 "metadata": {
  "colab": {
   "collapsed_sections": [],
   "name": "Mufti_Codebase.ipynb",
   "provenance": [],
   "version": "0.3.2"
  },
  "kernelspec": {
   "display_name": "Python 3",
   "language": "python",
   "name": "python3"
  },
  "language_info": {
   "codemirror_mode": {
    "name": "ipython",
    "version": 3
   },
   "file_extension": ".py",
   "mimetype": "text/x-python",
   "name": "python",
   "nbconvert_exporter": "python",
   "pygments_lexer": "ipython3",
   "version": "3.6.5"
  }
 },
 "nbformat": 4,
 "nbformat_minor": 1
}
